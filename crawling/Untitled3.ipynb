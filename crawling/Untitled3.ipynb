{
 "cells": [
  {
   "cell_type": "code",
   "execution_count": null,
   "metadata": {},
   "outputs": [],
   "source": [
    "import pandas as pd\n",
    "\n",
    "#value_dict = {'사과':300, '바나나':400, '당근':350}\n",
    "#count_dict = {'사과':3, '바나나':2, '당근':3}\n",
    "#last_value = {'사과':3, '바나나':2, '당근':3}\n",
    "\n",
    "value_dict = {'사과':[300,'원'], '바나나':[400,'원'], '당근':[350,'원']}\n",
    "count_dict = {'사과':[3,'개'], '바나나':[4,'개'], '당근':[5,'개']}\n",
    "last_value = {'사과':[0,'원'], '바나나':[0,'원'], '당근':[0,'원']}\n",
    "\n",
    "value = pd.Series(value_dict)\n",
    "count = pd.Series(count_dict)\n",
    "last_value = pd.Series(last_value)\n",
    "\n",
    "summary = pd.DataFrame({\n",
    "    'value':value,\n",
    "    'count':count,\n",
    "    'last_value':last_value\n",
    "})\n",
    "\n",
    "print(summary)\n",
    "\n",
    "#socre = summary['value']\n",
    "\n",
    "#socre = summary['value'].[0] * summary['count']\n",
    "#summary['last_value'] = socre\n",
    "#summary\n",
    "#summary['value'].astype(str)"
   ]
  },
  {
   "cell_type": "code",
   "execution_count": null,
   "metadata": {},
   "outputs": [],
   "source": []
  }
 ],
 "metadata": {
  "kernelspec": {
   "display_name": "Python 3",
   "language": "python",
   "name": "python3"
  },
  "language_info": {
   "codemirror_mode": {
    "name": "ipython",
    "version": 3
   },
   "file_extension": ".py",
   "mimetype": "text/x-python",
   "name": "python",
   "nbconvert_exporter": "python",
   "pygments_lexer": "ipython3",
   "version": "3.8.3"
  }
 },
 "nbformat": 4,
 "nbformat_minor": 4
}
